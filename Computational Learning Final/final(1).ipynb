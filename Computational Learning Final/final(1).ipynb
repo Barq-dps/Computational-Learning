{
 "cells": [
  {
   "cell_type": "code",
   "execution_count": 69,
   "metadata": {},
   "outputs": [],
   "source": [
    "from sklearn.model_selection import train_test_split\n",
    "\n",
    "preprocessed_data = data.copy()\n",
    "\n",
    "categorical_cols = ['Cloud Cover', 'Season', 'Location']\n",
    "\n",
    "label_encoder = LabelEncoder()\n",
    "\n",
    "for col in categorical_cols:\n",
    "    preprocessed_data[col] = label_encoder.fit_transform(preprocessed_data[col])\n",
    "\n",
    "y = label_encoder.fit_transform(preprocessed_data['Weather Type'])\n",
    "\n",
    "X = preprocessed_data.drop('Weather Type', axis=1)\n",
    "\n",
    "X_train, X_test, y_train, y_test = train_test_split(X, y, test_size=0.2, random_state=42)"
   ]
  },
  {
   "cell_type": "markdown",
   "metadata": {},
   "source": [
    "Cross Validation\n",
    "-Decision tree\n"
   ]
  },
  {
   "cell_type": "code",
   "execution_count": 70,
   "metadata": {},
   "outputs": [
    {
     "name": "stdout",
     "output_type": "stream",
     "text": [
      "Cross-validation scores:  ['90.62%', '90.48%', '90.29%', '91.29%', '91.52%']\n",
      "Mean cross-validation score: 90.84%\n"
     ]
    }
   ],
   "source": [
    "from sklearn.tree import DecisionTreeClassifier\n",
    "from sklearn.model_selection import cross_val_score\n",
    "\n",
    "dt_model = DecisionTreeClassifier(random_state=42)\n",
    "\n",
    "cv_scores = cross_val_score(dt_model, X_train, y_train, cv=5)\n",
    "\n",
    "\n",
    "print(\"Cross-validation scores: \", [f\"{score * 100:.2f}%\" for score in cv_scores])\n",
    "\n",
    "\n",
    "print(f\"Mean cross-validation score: {cv_scores.mean() * 100:.2f}%\")\n"
   ]
  },
  {
   "cell_type": "markdown",
   "metadata": {},
   "source": [
    "50 % Sampling - Bagging"
   ]
  },
  {
   "cell_type": "code",
   "execution_count": 71,
   "metadata": {},
   "outputs": [
    {
     "name": "stdout",
     "output_type": "stream",
     "text": [
      "Model 1 accuracy (50% random sampling): 90.68%\n",
      "Model 2 accuracy (50% random sampling): 90.15%\n",
      "Model 3 accuracy (50% random sampling): 90.27%\n",
      "Model 4 accuracy (50% random sampling): 90.27%\n",
      "Model 5 accuracy (50% random sampling): 90.30%\n",
      "Mean accuracy across 5 models (50% random sampling): 90.33%\n"
     ]
    }
   ],
   "source": [
    "import numpy as np\n",
    "from sklearn.tree import DecisionTreeClassifier\n",
    "from sklearn.metrics import accuracy_score\n",
    "\n",
    "random_sampling_accuracies = []\n",
    "\n",
    "for i in range(5):\n",
    "    random_indices = np.random.choice(range(len(X_train)), size=int(0.5 * len(X_train)), replace=False)\n",
    "    X_train_sample = X_train.iloc[random_indices]\n",
    "    y_train_sample = y_train[random_indices]\n",
    "    \n",
    "    dt_model = DecisionTreeClassifier(random_state=i)\n",
    "    \n",
    "    dt_model.fit(X_train_sample, y_train_sample)\n",
    "    \n",
    "    y_pred = dt_model.predict(X_test)\n",
    "    \n",
    "    accuracy = accuracy_score(y_test, y_pred)\n",
    "    random_sampling_accuracies.append(accuracy)\n",
    "    print(f\"Model {i+1} accuracy (50% random sampling): {accuracy * 100:.2f}%\")\n",
    "\n",
    "mean_accuracy = np.mean(random_sampling_accuracies)\n",
    "print(f\"Mean accuracy across 5 models (50% random sampling): {mean_accuracy * 100:.2f}%\")"
   ]
  },
  {
   "cell_type": "code",
   "execution_count": 73,
   "metadata": {},
   "outputs": [
    {
     "name": "stdout",
     "output_type": "stream",
     "text": [
      "Adaboost test accuracy (with SAMME and depth 2): 87.80%\n"
     ]
    }
   ],
   "source": [
    "from sklearn.ensemble import AdaBoostClassifier\n",
    "from sklearn.tree import DecisionTreeClassifier\n",
    "\n",
    "# Increase the depth of the Decision Tree model\n",
    "dt_model = DecisionTreeClassifier(max_depth=1, random_state=42)  \n",
    "\n",
    "# Initialize the Adaboost model using the SAMME algorithm\n",
    "adaboost_model = AdaBoostClassifier(estimator=dt_model, n_estimators=50, random_state=42, algorithm='SAMME')\n",
    "\n",
    "# Train the Adaboost model on the training data\n",
    "adaboost_model.fit(X_train, y_train)\n",
    "\n",
    "# Predict on the test set\n",
    "y_pred_adaboost = adaboost_model.predict(X_test)\n",
    "\n",
    "# Evaluate the accuracy\n",
    "adaboost_accuracy = accuracy_score(y_test, y_pred_adaboost)\n",
    "print(f\"Adaboost test accuracy (with SAMME and depth 2): {adaboost_accuracy * 100:.2f}%\")\n",
    "\n"
   ]
  }
 ],
 "metadata": {
  "kernelspec": {
   "display_name": "base",
   "language": "python",
   "name": "python3"
  },
  "language_info": {
   "codemirror_mode": {
    "name": "ipython",
    "version": 3
   },
   "file_extension": ".py",
   "mimetype": "text/x-python",
   "name": "python",
   "nbconvert_exporter": "python",
   "pygments_lexer": "ipython3",
   "version": "3.11.8"
  }
 },
 "nbformat": 4,
 "nbformat_minor": 2
}
